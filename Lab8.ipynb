{
  "nbformat": 4,
  "nbformat_minor": 0,
  "metadata": {
    "colab": {
      "name": "Lab8.ipynb",
      "provenance": [],
      "authorship_tag": "ABX9TyOOMUPe0Y/0XmxEV3fcmSBN",
      "include_colab_link": true
    },
    "kernelspec": {
      "name": "python3",
      "display_name": "Python 3"
    },
    "language_info": {
      "name": "python"
    }
  },
  "cells": [
    {
      "cell_type": "markdown",
      "metadata": {
        "id": "view-in-github",
        "colab_type": "text"
      },
      "source": [
        "<a href=\"https://colab.research.google.com/github/bryanjsb/lab8_IntroDatos/blob/main/Lab8.ipynb\" target=\"_parent\"><img src=\"https://colab.research.google.com/assets/colab-badge.svg\" alt=\"Open In Colab\"/></a>"
      ]
    },
    {
      "cell_type": "markdown",
      "source": [
        "# **Introduccion al analisis de datos**::\n",
        "\n",
        "## Laboratorio 8.\n",
        "\n",
        "Bryan Sanchez Brenes."
      ],
      "metadata": {
        "id": "LB38DeiJBaLc"
      }
    },
    {
      "cell_type": "markdown",
      "source": [
        "Creando una hoja de calculo "
      ],
      "metadata": {
        "id": "_B2Ux0llFuJ7"
      }
    },
    {
      "cell_type": "code",
      "source": [
        "import pandas as pd\n",
        " \n",
        "from google.colab import auth\n",
        "auth.authenticate_user()\n",
        " \n",
        "import gspread\n",
        "from google.auth import default\n",
        "creds, _ = default()\n",
        " \n",
        "gc= gspread.authorize(creds)\n",
        "sh= gc.create('Bryan Sanchez Brenes') \n"
      ],
      "metadata": {
        "id": "OA1fEsJbBNCw"
      },
      "execution_count": 1,
      "outputs": []
    },
    {
      "cell_type": "markdown",
      "source": [
        "Insertando numeros aleatorios a la hoja de calculo"
      ],
      "metadata": {
        "id": "Cmt9ipDtF2RK"
      }
    },
    {
      "cell_type": "code",
      "source": [
        "worksheet = gc.open('Bryan Sanchez Brenes').sheet1\n",
        "cell_list = worksheet.range('A1:G14')\n",
        "\n",
        "import random\n",
        "for cell in cell_list:\n",
        "  cell.value = random.randint(1, 10)\n",
        "\n",
        "worksheet.update_cells(cell_list)"
      ],
      "metadata": {
        "colab": {
          "base_uri": "https://localhost:8080/"
        },
        "id": "IWumScnoErbk",
        "outputId": "3f5aa972-fe07-4363-eec2-3c9269da3bc3"
      },
      "execution_count": 4,
      "outputs": [
        {
          "output_type": "execute_result",
          "data": {
            "text/plain": [
              "{'spreadsheetId': '1hmoLKBNFmWPdIufnVCqcWajqmBAu-4tWb5OPEK52ofk',\n",
              " 'updatedCells': 98,\n",
              " 'updatedColumns': 7,\n",
              " 'updatedRange': \"'Hoja 1'!A1:G14\",\n",
              " 'updatedRows': 14}"
            ]
          },
          "metadata": {},
          "execution_count": 4
        }
      ]
    },
    {
      "cell_type": "code",
      "source": [
        "worksheet = gc.open('Bryan Sanchez Brenes').sheet1\n",
        "rows = worksheet.get_all_values()\n",
        "print(rows)"
      ],
      "metadata": {
        "colab": {
          "base_uri": "https://localhost:8080/"
        },
        "id": "iUKG8b6KH2JS",
        "outputId": "fa9a05bd-b500-430f-cb37-7005e65ce0cd"
      },
      "execution_count": 5,
      "outputs": [
        {
          "output_type": "stream",
          "name": "stdout",
          "text": [
            "[['10', '4', '5', '8', '8', '7', '8'], ['9', '10', '8', '10', '4', '8', '8'], ['1', '10', '5', '8', '10', '5', '3'], ['5', '3', '10', '4', '8', '8', '4'], ['8', '4', '1', '8', '8', '7', '9'], ['4', '8', '9', '10', '2', '2', '3'], ['1', '8', '3', '2', '3', '2', '6'], ['10', '1', '5', '8', '2', '3', '4'], ['1', '9', '4', '10', '2', '4', '6'], ['8', '4', '4', '8', '6', '4', '8'], ['7', '3', '2', '3', '4', '8', '6'], ['6', '10', '2', '2', '1', '3', '1'], ['4', '8', '8', '7', '4', '8', '8'], ['9', '9', '10', '1', '7', '2', '7']]\n"
          ]
        }
      ]
    }
  ]
}